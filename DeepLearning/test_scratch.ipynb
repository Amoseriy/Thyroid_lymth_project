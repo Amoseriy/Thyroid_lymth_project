{
 "cells": [
  {
   "cell_type": "code",
   "id": "initial_id",
   "metadata": {
    "collapsed": true,
    "ExecuteTime": {
     "end_time": "2024-11-20T12:15:43.231993Z",
     "start_time": "2024-11-20T12:15:39.659733Z"
    }
   },
   "source": [
    "import matplotlib.pyplot as plt\n",
    "plt.rcParams[\"savefig.bbox\"] = 'tight'\n",
    "from PIL import Image\n",
    "import os\n",
    "import numpy as np\n",
    "\n",
    "import torch\n",
    "import torchvision\n",
    "from torchvision import tv_tensors\n",
    "from torchvision.io import decode_image\n",
    "from torchvision.datasets import ImageFolder\n",
    "from torch.utils.data import DataLoader\n",
    "from torchvision.transforms import v2\n",
    "\n",
    "from helpers import plot"
   ],
   "outputs": [],
   "execution_count": 1
  },
  {
   "metadata": {
    "ExecuteTime": {
     "end_time": "2024-11-20T12:21:39.965972Z",
     "start_time": "2024-11-20T12:21:39.956972Z"
    }
   },
   "cell_type": "code",
   "source": [
    "img_path = \"./astronaut.jpg\"\n",
    "img = Image.open(img_path)\n",
    "decoded_img = decode_image(img_path)\n",
    "img_tensor = v2.ToImage()(img)\n",
    "\n",
    "print(f\"{type(img) = }\")\n",
    "print(f\"{type(decoded_img) = }, {decoded_img.shape = }, {decoded_img.dtype = }\")\n",
    "print(f\"{type(img_tensor) = }, {img_tensor.shape = }, {img_tensor.dtype = }\")\n"
   ],
   "id": "e4cbc6902d6b80c0",
   "outputs": [
    {
     "name": "stdout",
     "output_type": "stream",
     "text": [
      "type(img) = <class 'PIL.JpegImagePlugin.JpegImageFile'>\n",
      "type(decoded_img) = <class 'torch.Tensor'>, decoded_img.shape = torch.Size([3, 512, 512]), decoded_img.dtype = torch.uint8\n",
      "type(img_tensor) = <class 'torchvision.tv_tensors._image.Image'>, img_tensor.shape = torch.Size([3, 512, 512]), img_tensor.dtype = torch.uint8\n"
     ]
    }
   ],
   "execution_count": 7
  },
  {
   "metadata": {
    "ExecuteTime": {
     "end_time": "2024-11-20T12:48:12.010562Z",
     "start_time": "2024-11-20T12:48:11.991554Z"
    }
   },
   "cell_type": "code",
   "source": [
    "img_path_test = \"../DATABASE_DL_JPG/benign/BaiMaoAn_101_0_1.jpg\"\n",
    "img_test = Image.open(img_path_test)\n",
    "print(img_test)\n",
    "img_test = np.array(img_test) / 255.0\n",
    "print(f\"{type(img_test) = }, {img_test.shape = }, {img_test.dtype = }\")\n",
    "# np_img = img_test.numpy()\n"
   ],
   "id": "c676bd6e6ca85ee4",
   "outputs": [
    {
     "name": "stdout",
     "output_type": "stream",
     "text": [
      "<PIL.JpegImagePlugin.JpegImageFile image mode=RGB size=8x10 at 0x1FCF758CE20>\n",
      "type(img_test) = <class 'numpy.ndarray'>, img_test.shape = (10, 8, 3), img_test.dtype = dtype('float64')\n"
     ]
    }
   ],
   "execution_count": 21
  }
 ],
 "metadata": {
  "kernelspec": {
   "display_name": "Python 3",
   "language": "python",
   "name": "python3"
  },
  "language_info": {
   "codemirror_mode": {
    "name": "ipython",
    "version": 2
   },
   "file_extension": ".py",
   "mimetype": "text/x-python",
   "name": "python",
   "nbconvert_exporter": "python",
   "pygments_lexer": "ipython2",
   "version": "2.7.6"
  }
 },
 "nbformat": 4,
 "nbformat_minor": 5
}
