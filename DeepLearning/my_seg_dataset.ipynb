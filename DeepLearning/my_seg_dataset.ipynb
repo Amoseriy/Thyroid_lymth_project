{
 "cells": [
  {
   "cell_type": "code",
   "id": "745a0fd6c7fc42b1",
   "metadata": {
    "ExecuteTime": {
     "end_time": "2024-12-02T12:13:22.174649Z",
     "start_time": "2024-12-02T12:13:18.785517Z"
    }
   },
   "source": [
    "import os\n",
    "import numpy as np\n",
    "import cv2\n",
    "import matplotlib.pyplot as plt\n",
    "import torch\n",
    "import torchvision\n",
    "from torchvision.io import decode_image\n",
    "from torch.utils.data import Dataset, DataLoader"
   ],
   "outputs": [],
   "execution_count": 1
  },
  {
   "metadata": {
    "ExecuteTime": {
     "end_time": "2024-12-02T12:40:32.871843Z",
     "start_time": "2024-12-02T12:40:32.831843Z"
    }
   },
   "cell_type": "code",
   "source": [
    "import json\n",
    "root_path = r\"G:/Program/DATABASE_JPG/2023/HuangFuJu/HuangFuJu_200.jpg\"\n",
    "\n",
    "with open(\"img_mask_path.json\", 'r') as f:\n",
    "    path_dict = json.load(f)\n",
    "\n",
    "mask1, mask2 = path_dict[root_path]\n",
    "print(mask1, mask2)\n",
    "mask1 = decode_image(mask1)\n",
    "mask2 = decode_image(mask2)\n",
    "type(mask1), type(mask2)\n"
   ],
   "id": "35d0249ed99a585a",
   "outputs": [
    {
     "name": "stdout",
     "output_type": "stream",
     "text": [
      "G:/Program/DATABASE_PNG/2023/HuangFuJu/benign/HuangFuJu_200.png G:/Program/DATABASE_PNG/2023/HuangFuJu/malignant/HuangFuJu_200.png\n"
     ]
    },
    {
     "data": {
      "text/plain": [
       "(torch.Tensor, torch.Tensor)"
      ]
     },
     "execution_count": 21,
     "metadata": {},
     "output_type": "execute_result"
    }
   ],
   "execution_count": 21
  },
  {
   "metadata": {
    "ExecuteTime": {
     "end_time": "2024-12-02T12:40:35.479071Z",
     "start_time": "2024-12-02T12:40:35.455073Z"
    }
   },
   "cell_type": "code",
   "source": [
    "obj_ids1 = torch.unique(mask1)\n",
    "obj_ids2 = torch.unique(mask2)\n",
    "# first id is the background, so remove it\n",
    "obj_ids1 = obj_ids1[1:]\n",
    "obj_ids2 = obj_ids2[1:]\n",
    "\n",
    "update_mask = mask2.clone()\n",
    "for obj_id in obj_ids2:\n",
    "    update_mask[mask2 == obj_id] = obj_id + 100\n",
    "\n",
    "print(obj_ids1, obj_ids2)"
   ],
   "id": "916931f20bc79a66",
   "outputs": [
    {
     "name": "stdout",
     "output_type": "stream",
     "text": [
      "tensor([ 1,  2,  3, 12], dtype=torch.uint8) tensor([1], dtype=torch.uint8)\n"
     ]
    }
   ],
   "execution_count": 22
  },
  {
   "metadata": {
    "ExecuteTime": {
     "end_time": "2024-12-02T12:40:40.883333Z",
     "start_time": "2024-12-02T12:40:40.865332Z"
    }
   },
   "cell_type": "code",
   "source": [
    "mask = torch.max(mask1, update_mask)\n",
    "obj_ids = torch.unique(mask)\n",
    "obj_ids = obj_ids[1:]\n",
    "print(obj_ids)"
   ],
   "id": "d7ed4736ac0c815b",
   "outputs": [
    {
     "name": "stdout",
     "output_type": "stream",
     "text": [
      "tensor([  2,   3,  12, 101], dtype=torch.uint8)\n"
     ]
    }
   ],
   "execution_count": 23
  }
 ],
 "metadata": {
  "kernelspec": {
   "display_name": "Python 3 (ipykernel)",
   "language": "python",
   "name": "python3"
  },
  "language_info": {
   "codemirror_mode": {
    "name": "ipython",
    "version": 3
   },
   "file_extension": ".py",
   "mimetype": "text/x-python",
   "name": "python",
   "nbconvert_exporter": "python",
   "pygments_lexer": "ipython3",
   "version": "3.9.18"
  }
 },
 "nbformat": 4,
 "nbformat_minor": 5
}
